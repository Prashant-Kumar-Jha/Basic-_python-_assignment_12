{
 "cells": [
  {
   "cell_type": "code",
   "execution_count": null,
   "metadata": {},
   "outputs": [],
   "source": [
    "Q1 - The PyPDF2.PdfFileReader() function does not receive a string value for the PDF filename.\n",
    "      Instead, what do you pass to the function?\n",
    "\n",
    "ans - A File object returned from open()"
   ]
  },
  {
   "cell_type": "code",
   "execution_count": null,
   "metadata": {},
   "outputs": [],
   "source": [
    "Q2 - In what modes should the PdfFileReader() and PdfFileWriter() File objects be opened?\n",
    "\n",
    "ans - Read-binary ('rb') for PdfFileReader() and write-binary ('wb') for PdfFileWriter()"
   ]
  },
  {
   "cell_type": "code",
   "execution_count": null,
   "metadata": {},
   "outputs": [],
   "source": [
    "Q3 -  From a PdfFileReader object, how do you get a Page object for page 5?\n",
    "\n",
    "ans- Calling getPage(4) will return a Page object for About This Book, since page 0 is the first page."
   ]
  },
  {
   "cell_type": "code",
   "execution_count": null,
   "metadata": {},
   "outputs": [],
   "source": [
    "Q4 - Which PdfFileReader variable keeps track of the PDF document's page count?\n",
    "\n",
    "ans-The numPages variable stores an integer of the number of pages in the PdfFileReader object."
   ]
  },
  {
   "cell_type": "code",
   "execution_count": null,
   "metadata": {},
   "outputs": [],
   "source": [
    "Q5- What must you do if the PDF of a PdfFileReader object is encrypted with \n",
    "    the password swordfish before you can get Page objects from it?\n",
    "    \n",
    "ans - Call decrypt('swordfish')."
   ]
  },
  {
   "cell_type": "code",
   "execution_count": null,
   "metadata": {},
   "outputs": [],
   "source": [
    "Q6 - Can you tell me how you rotate a page?\n",
    "\n",
    "ans- The rotateClockwise() and rotateCounterClockwise() methods. The degrees to rotate is passed as an integer argument."
   ]
  },
  {
   "cell_type": "code",
   "execution_count": null,
   "metadata": {},
   "outputs": [],
   "source": [
    "Q7 -  For the file demo.docx, which method returns a Document object?\n",
    "\n",
    "ans - docx.Document('demo.docx')"
   ]
  },
  {
   "cell_type": "code",
   "execution_count": null,
   "metadata": {},
   "outputs": [],
   "source": [
    "Q8 - What is the difference between a Run object and a Paragraph object?\n",
    "\n",
    "ans - A document contains multiple paragraphs. A paragraph begins on a new line and contains multiple runs. \n",
    "      Runs are contiguous groups of characters within a paragraph"
   ]
  },
  {
   "cell_type": "code",
   "execution_count": null,
   "metadata": {},
   "outputs": [],
   "source": [
    "Q9 -  For a Document object stored in a variable called doc, how do you get a list of paragraph objects?\n",
    "\n",
    "ans - Use doc.paragraphs."
   ]
  },
  {
   "cell_type": "code",
   "execution_count": null,
   "metadata": {},
   "outputs": [],
   "source": [
    "Q10 - . What object has the variables bold, underline, italic, hit, and outline?\n",
    "\n",
    "ans - A Run object has these variables (not a Paragraph)."
   ]
  },
  {
   "cell_type": "code",
   "execution_count": null,
   "metadata": {},
   "outputs": [],
   "source": [
    "Q11 - What is the difference between False, True, and None for the bold variable?\n",
    "\n",
    "ans - True always makes the Run object bolded and False makes it always not bolded,\n",
    "      no matter what the style’s bold setting is.\n",
    "      None will make the Run object just use the style’s bold setting."
   ]
  },
  {
   "cell_type": "code",
   "execution_count": null,
   "metadata": {},
   "outputs": [],
   "source": [
    "Q12 -  How do you make a new Word document's Document object?\n",
    "\n",
    "ans - .Call the docx.Document() function."
   ]
  },
  {
   "cell_type": "code",
   "execution_count": null,
   "metadata": {},
   "outputs": [],
   "source": [
    "Q13 - How do you add a paragraph to a Document object stored in a variable called doc with the text 'Hello, there!'?\n",
    "\n",
    "ans - doc.add_paragraph('Hello there!')"
   ]
  },
  {
   "cell_type": "code",
   "execution_count": null,
   "metadata": {},
   "outputs": [],
   "source": [
    "Q14 -  In Word documents, what integers reflect the different levels of headings?\n",
    "\n",
    "ans - The integers 0, 1, 2, 3, and 4"
   ]
  }
 ],
 "metadata": {
  "kernelspec": {
   "display_name": "Python 3",
   "language": "python",
   "name": "python3"
  },
  "language_info": {
   "codemirror_mode": {
    "name": "ipython",
    "version": 3
   },
   "file_extension": ".py",
   "mimetype": "text/x-python",
   "name": "python",
   "nbconvert_exporter": "python",
   "pygments_lexer": "ipython3",
   "version": "3.8.5"
  }
 },
 "nbformat": 4,
 "nbformat_minor": 4
}
